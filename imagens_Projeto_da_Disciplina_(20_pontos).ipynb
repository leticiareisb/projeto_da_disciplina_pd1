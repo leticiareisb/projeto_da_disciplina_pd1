{
  "cells": [
    {
      "cell_type": "markdown",
      "metadata": {
        "id": "view-in-github",
        "colab_type": "text"
      },
      "source": [
        "<a href=\"https://colab.research.google.com/github/leticiareisb/projeto_da_disciplina_pd1/blob/main/imagens_Projeto_da_Disciplina_(20_pontos).ipynb\" target=\"_parent\"><img src=\"https://colab.research.google.com/assets/colab-badge.svg\" alt=\"Open In Colab\"/></a>"
      ]
    },
    {
      "cell_type": "code",
      "execution_count": null,
      "metadata": {
        "id": "zwFnJsE6vjf8"
      },
      "outputs": [],
      "source": [
        "from PIL import Image, ImageDraw, ImageEnhance\n",
        "from skimage import measure\n",
        "import numpy as np\n",
        "\n",
        "# Carregar a imagem\n",
        "imagem = Image.open('imagem1.jpg')\n",
        "\n",
        "# Converter para escala de cinza\n",
        "imagem_cinza = imagem.convert('L')\n",
        "\n",
        "# Converter a imagem em matriz NumPy\n",
        "matriz_imagem = np.array(imagem_cinza)\n",
        "\n",
        "# Encontrar os contornos\n",
        "contornos = measure.find_contours(matriz_imagem, 0.8)\n",
        "\n",
        "# Desenhar os contornos na imagem original\n",
        "desenhar = ImageDraw.Draw(imagem)\n",
        "for contorno in contornos:\n",
        "    for i in range(len(contorno) - 1):\n",
        "        desenhar.line((contorno[i][1], contorno[i][0], contorno[i+1][1], contorno[i+1][0]), fill='red', width=2)\n",
        "\n",
        "# Aumentar o contraste da imagem\n",
        "realcar = ImageEnhance.Contrast(imagem)\n",
        "imagem_contraste = realcar.enhance(15.5)\n",
        "\n",
        "# Salvar a imagem resultante com os contornos e realce\n",
        "imagem_contraste.save('mama_contornos.jpg')\n"
      ]
    },
    {
      "cell_type": "code",
      "source": [
        "import cv2\n",
        "import numpy as np\n",
        "\n",
        "# Carregar a imagem\n",
        "img = cv2.imread('mama_contornos.jpg')\n",
        "\n",
        "# Contar o número de pixels brancos (255) e pretos (0)\n",
        "numero_pixels_brancos = np.sum(img == 255)\n",
        "numero_pixels_pretos = np.sum(img == 0)\n",
        "\n",
        "# Exibir o número de pixels brancos e pretos\n",
        "print('Número de pixels brancos:', numero_pixels_brancos)\n",
        "print('Número de pixels pretos:', numero_pixels_pretos)\n",
        "\n",
        "# Calcular o percentual de pixels brancos\n",
        "percentual_pixels_brancos = (numero_pixels_brancos / (numero_pixels_brancos + numero_pixels_pretos)) * 100\n",
        "\n",
        "# Exibir o percentual de pixels brancos\n",
        "print('Porcentagem de pixels brancos:', percentual_pixels_brancos)\n",
        "\n",
        "# Condição para verificar se a imagem tem câncer com base na porcentagem de pixels brancos\n",
        "if percentual_pixels_brancos >= 30:\n",
        "    print('Imagem com câncer')\n",
        "else:\n",
        "    print('Imagem sem câncer')\n"
      ],
      "metadata": {
        "id": "OzHGeSy0GCqQ"
      },
      "execution_count": null,
      "outputs": []
    },
    {
      "cell_type": "code",
      "source": [
        "from PIL import Image, ImageDraw, ImageEnhance\n",
        "from skimage import measure\n",
        "import numpy as np\n",
        "\n",
        "# Carregar a imagem\n",
        "imagem = Image.open('cavalo.jpg')\n",
        "\n",
        "# Converter a imagem para RGB se não estiver nesse formato\n",
        "imagem_rgb = imagem.convert('RGB')\n",
        "\n",
        "# Separar os canais de cores\n",
        "r, g, b = imagem_rgb.split()\n",
        "\n",
        "# Converter cada canal em uma matriz NumPy\n",
        "r_matriz = np.array(r)\n",
        "g_matriz = np.array(g)\n",
        "b_matriz = np.array(b)\n",
        "\n",
        "# Encontrar os contornos em cada canal\n",
        "contornos_r = measure.find_contours(r_matriz, 0.8)\n",
        "contornos_g = measure.find_contours(g_matriz, 0.8)\n",
        "contornos_b = measure.find_contours(b_matriz, 0.8)\n",
        "\n",
        "# Desenhar os contornos na imagem original\n",
        "desenhar = ImageDraw.Draw(imagem_rgb)\n",
        "\n",
        "# Desenhar os contornos do canal vermelho\n",
        "for contorno in contornos_r:\n",
        "    for i in range(len(contorno) - 1):\n",
        "        desenhar.line((contorno[i][1], contorno[i][0], contorno[i+1][1], contorno[i+1][0]), fill='red', width=2)\n",
        "\n",
        "# Desenhar os contornos do canal verde\n",
        "for contorno in contornos_g:\n",
        "    for i in range(len(contorno) - 1):\n",
        "        desenhar.line((contorno[i][1], contorno[i][0], contorno[i+1][1], contorno[i+1][0]), fill='green', width=2)\n",
        "\n",
        "# Desenhar os contornos do canal azul\n",
        "for contorno in contornos_b:\n",
        "    for i in range(len(contorno) - 1):\n",
        "        desenhar.line((contorno[i][1], contorno[i][0], contorno[i+1][1], contorno[i+1][0]), fill='blue', width=2)\n",
        "\n",
        "# Aumentar o contraste da imagem com contornos\n",
        "realcar = ImageEnhance.Contrast(imagem_rgb)\n",
        "imagem_contraste = realcar.enhance(15.5)\n",
        "\n",
        "# Salvar a imagem resultante com os contornos e realce\n",
        "imagem_contraste.save('imagem_contornos_rgb.png')\n",
        "\n",
        "# Exibir a imagem final\n",
        "imagem_contraste.show()"
      ],
      "metadata": {
        "id": "Gd5KdPpQGJwU"
      },
      "execution_count": null,
      "outputs": []
    }
  ],
  "metadata": {
    "colab": {
      "toc_visible": true,
      "provenance": [],
      "include_colab_link": true
    },
    "kernelspec": {
      "display_name": "Python 3",
      "name": "python3"
    }
  },
  "nbformat": 4,
  "nbformat_minor": 0
}